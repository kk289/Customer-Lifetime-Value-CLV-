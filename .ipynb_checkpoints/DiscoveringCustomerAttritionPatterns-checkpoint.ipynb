{
 "cells": [
  {
   "cell_type": "markdown",
   "metadata": {},
   "source": [
    "# Discovering customer attrition patterns"
   ]
  },
  {
   "cell_type": "markdown",
   "metadata": {},
   "source": [
    "We analyze customer attrition data to discover patterns. These will help us dive deeper into those patterns and do root cause analysis of why they are happening. We will use association rules mining algorithm for this purpose."
   ]
  },
  {
   "cell_type": "markdown",
   "metadata": {},
   "source": [
    "## How to use Pip from the Jupyter Notebook\n",
    "If you're using the Jupyter notebook and want to install a package with pip, you similarly might be inclined to run pip directly in the shell"
   ]
  },
  {
   "cell_type": "code",
   "execution_count": 22,
   "metadata": {},
   "outputs": [
    {
     "name": "stdout",
     "output_type": "stream",
     "text": [
      "Collecting apyori\n",
      "  Downloading apyori-1.1.2.tar.gz (8.6 kB)\n",
      "Building wheels for collected packages: apyori\n",
      "  Building wheel for apyori (setup.py) ... \u001b[?25ldone\n",
      "\u001b[?25h  Created wheel for apyori: filename=apyori-1.1.2-py3-none-any.whl size=5974 sha256=dba1e55b3a944199fc7f87ad42418753518e44abdd831e6d29e8c7db00a3318b\n",
      "  Stored in directory: /Users/kevilkhadka/Library/Caches/pip/wheels/cb/f6/e1/57973c631d27efd1a2f375bd6a83b2a616c4021f24aab84080\n",
      "Successfully built apyori\n",
      "Installing collected packages: apyori\n",
      "Successfully installed apyori-1.1.2\n"
     ]
    }
   ],
   "source": [
    "# Install a pip package in the current Jupyter kernel\n",
    "import sys\n",
    "!{sys.executable} -m pip install apyori"
   ]
  },
  {
   "cell_type": "markdown",
   "metadata": {},
   "source": [
    "## Load the Dataset and Transform\n",
    "We first load the data (\"attrition.csv\") and view it."
   ]
  },
  {
   "cell_type": "code",
   "execution_count": 23,
   "metadata": {},
   "outputs": [
    {
     "data": {
      "text/html": [
       "<div>\n",
       "<style scoped>\n",
       "    .dataframe tbody tr th:only-of-type {\n",
       "        vertical-align: middle;\n",
       "    }\n",
       "\n",
       "    .dataframe tbody tr th {\n",
       "        vertical-align: top;\n",
       "    }\n",
       "\n",
       "    .dataframe thead th {\n",
       "        text-align: right;\n",
       "    }\n",
       "</style>\n",
       "<table border=\"1\" class=\"dataframe\">\n",
       "  <thead>\n",
       "    <tr style=\"text-align: right;\">\n",
       "      <th></th>\n",
       "      <th>LIFETIME</th>\n",
       "      <th>TYPE</th>\n",
       "      <th>REASON</th>\n",
       "      <th>AGE_GROUP</th>\n",
       "      <th>EMP_STATUS</th>\n",
       "      <th>MARITAL_STATUS</th>\n",
       "      <th>RENEWALS</th>\n",
       "      <th>PROBLEMS</th>\n",
       "      <th>OFFERS</th>\n",
       "    </tr>\n",
       "  </thead>\n",
       "  <tbody>\n",
       "    <tr>\n",
       "      <th>0</th>\n",
       "      <td>1 - 3 M</td>\n",
       "      <td>CANCEL</td>\n",
       "      <td>BETTER DEALS</td>\n",
       "      <td>&lt; 20</td>\n",
       "      <td>STUDENT</td>\n",
       "      <td>SINGLE</td>\n",
       "      <td>0</td>\n",
       "      <td>0 to 5</td>\n",
       "      <td>0 to 2</td>\n",
       "    </tr>\n",
       "    <tr>\n",
       "      <th>1</th>\n",
       "      <td>1 - 3 M</td>\n",
       "      <td>CANCEL</td>\n",
       "      <td>BETTER DEALS</td>\n",
       "      <td>&lt; 20</td>\n",
       "      <td>STUDENT</td>\n",
       "      <td>SINGLE</td>\n",
       "      <td>0</td>\n",
       "      <td>0 to 5</td>\n",
       "      <td>0 to 2</td>\n",
       "    </tr>\n",
       "    <tr>\n",
       "      <th>2</th>\n",
       "      <td>1Y - 2Y</td>\n",
       "      <td>CANCEL</td>\n",
       "      <td>NOT HAPPY</td>\n",
       "      <td>30 - 50</td>\n",
       "      <td>EMPLOYED</td>\n",
       "      <td>MARRIED</td>\n",
       "      <td>1</td>\n",
       "      <td>10 plus</td>\n",
       "      <td>0 to 2</td>\n",
       "    </tr>\n",
       "    <tr>\n",
       "      <th>3</th>\n",
       "      <td>1Y - 2Y</td>\n",
       "      <td>EXPIRY</td>\n",
       "      <td>BETTER DEALS</td>\n",
       "      <td>30 - 50</td>\n",
       "      <td>EMPLOYED</td>\n",
       "      <td>MARRIED</td>\n",
       "      <td>1</td>\n",
       "      <td>0 to 5</td>\n",
       "      <td>2 to 5</td>\n",
       "    </tr>\n",
       "    <tr>\n",
       "      <th>4</th>\n",
       "      <td>1Y - 2Y</td>\n",
       "      <td>CANCEL</td>\n",
       "      <td>NOT HAPPY</td>\n",
       "      <td>30 - 50</td>\n",
       "      <td>UNEMPLOYED</td>\n",
       "      <td>SINGLE</td>\n",
       "      <td>1</td>\n",
       "      <td>10 plus</td>\n",
       "      <td>0 to 2</td>\n",
       "    </tr>\n",
       "  </tbody>\n",
       "</table>\n",
       "</div>"
      ],
      "text/plain": [
       "  LIFETIME    TYPE        REASON AGE_GROUP  EMP_STATUS MARITAL_STATUS  \\\n",
       "0  1 - 3 M  CANCEL  BETTER DEALS      < 20     STUDENT         SINGLE   \n",
       "1  1 - 3 M  CANCEL  BETTER DEALS      < 20     STUDENT         SINGLE   \n",
       "2  1Y - 2Y  CANCEL     NOT HAPPY   30 - 50    EMPLOYED        MARRIED   \n",
       "3  1Y - 2Y  EXPIRY  BETTER DEALS   30 - 50    EMPLOYED        MARRIED   \n",
       "4  1Y - 2Y  CANCEL     NOT HAPPY   30 - 50  UNEMPLOYED         SINGLE   \n",
       "\n",
       "  RENEWALS PROBLEMS  OFFERS  \n",
       "0        0   0 to 5  0 to 2  \n",
       "1        0   0 to 5  0 to 2  \n",
       "2        1  10 plus  0 to 2  \n",
       "3        1   0 to 5  2 to 5  \n",
       "4        1  10 plus  0 to 2  "
      ]
     },
     "execution_count": 23,
     "metadata": {},
     "output_type": "execute_result"
    }
   ],
   "source": [
    "from pandas import Series, DataFrame\n",
    "import pandas as pd\n",
    "import numpy as np\n",
    "import os\n",
    "import matplotlib.pylab as plt\n",
    "from apyori import apriori\n",
    "\n",
    "#Load the prospect dataset\n",
    "raw_data = pd.read_csv(\"attrition.csv\")\n",
    "raw_data.head()"
   ]
  },
  {
   "cell_type": "markdown",
   "metadata": {},
   "source": [
    "The CSV contains information about each customer who have left the business. It contains attributes like LIFETIME of the customer, How the customer left, reasons, problems and demographics.\n",
    "\n",
    "For doing association rules mining, the data needs to be in a specific format. Each line should be a transaction with a list of items for that transaction. We will take the CSV file data convert them into values like \"name = value\" to create this specific data structure"
   ]
  },
  {
   "cell_type": "code",
   "execution_count": 26,
   "metadata": {},
   "outputs": [],
   "source": [
    "basket_str = \"\"\n",
    "\n",
    "for rowNum, row in raw_data.iterrows():\n",
    "    \n",
    "    #Break lines\n",
    "    if (rowNum != 0):\n",
    "        basket_str = basket_str + \"\\n\"\n",
    "        \n",
    "    #Add the rowid as the first column\n",
    "    basket_str = basket_str + str(rowNum) \n",
    "    \n",
    "    #Add columns\n",
    "    for colName, col in row.iteritems():\n",
    "        basket_str = basket_str + \",\\\"\" + colName + \"=\" + str(col) +\"\\\"\"\n",
    "\n",
    "#print(basket_str)\n",
    "basket_file = open(\"warranty_basket.csv\", \"w\")\n",
    "basket_file.write(basket_str)\n",
    "basket_file.close()"
   ]
  },
  {
   "cell_type": "markdown",
   "metadata": {},
   "source": [
    "## Build Association Rules\n",
    "We now use the apriori algorithm to build association rules. We then extract the results and populate a data frame for future use.\n",
    "\n",
    "The apriori provides the LHS for multiple combinations of the items. We capture the counts along with confidence and lift in this example."
   ]
  },
  {
   "cell_type": "code",
   "execution_count": 27,
   "metadata": {},
   "outputs": [
    {
     "ename": "NameError",
     "evalue": "name 'basket_data' is not defined",
     "output_type": "error",
     "traceback": [
      "\u001b[0;31m---------------------------------------------------------------------------\u001b[0m",
      "\u001b[0;31mNameError\u001b[0m                                 Traceback (most recent call last)",
      "\u001b[0;32m<ipython-input-27-c9c2b4cf412d>\u001b[0m in \u001b[0;36m<module>\u001b[0;34m\u001b[0m\n\u001b[0;32m----> 1\u001b[0;31m \u001b[0milt_data\u001b[0m \u001b[0;34m=\u001b[0m \u001b[0mbasket_data\u001b[0m\u001b[0;34m.\u001b[0m\u001b[0mdrop\u001b[0m\u001b[0;34m(\u001b[0m\u001b[0mbasket_data\u001b[0m\u001b[0;34m.\u001b[0m\u001b[0mcolumns\u001b[0m\u001b[0;34m[\u001b[0m\u001b[0;34m[\u001b[0m\u001b[0;36m0\u001b[0m\u001b[0;34m]\u001b[0m\u001b[0;34m]\u001b[0m\u001b[0;34m,\u001b[0m \u001b[0maxis\u001b[0m\u001b[0;34m=\u001b[0m\u001b[0;36m1\u001b[0m\u001b[0;34m)\u001b[0m\u001b[0;34m\u001b[0m\u001b[0;34m\u001b[0m\u001b[0m\n\u001b[0m\u001b[1;32m      2\u001b[0m \u001b[0mresults\u001b[0m \u001b[0;34m=\u001b[0m \u001b[0mlist\u001b[0m\u001b[0;34m(\u001b[0m\u001b[0mapriori\u001b[0m\u001b[0;34m(\u001b[0m\u001b[0mfilt_data\u001b[0m\u001b[0;34m.\u001b[0m\u001b[0mas_matrix\u001b[0m\u001b[0;34m(\u001b[0m\u001b[0;34m)\u001b[0m\u001b[0;34m)\u001b[0m\u001b[0;34m)\u001b[0m\u001b[0;34m\u001b[0m\u001b[0;34m\u001b[0m\u001b[0m\n\u001b[1;32m      3\u001b[0m \u001b[0;34m\u001b[0m\u001b[0m\n\u001b[1;32m      4\u001b[0m \u001b[0mrulesList\u001b[0m \u001b[0;34m=\u001b[0m \u001b[0mpd\u001b[0m\u001b[0;34m.\u001b[0m\u001b[0mDataFrame\u001b[0m\u001b[0;34m(\u001b[0m\u001b[0mcolumns\u001b[0m \u001b[0;34m=\u001b[0m \u001b[0;34m(\u001b[0m\u001b[0;34m'LHS'\u001b[0m\u001b[0;34m,\u001b[0m \u001b[0;34m'RHS'\u001b[0m\u001b[0;34m,\u001b[0m \u001b[0;34m'COUNT'\u001b[0m\u001b[0;34m,\u001b[0m \u001b[0;34m'CONFIDENCE'\u001b[0m\u001b[0;34m,\u001b[0m\u001b[0;34m'LIFT'\u001b[0m\u001b[0;34m)\u001b[0m\u001b[0;34m)\u001b[0m\u001b[0;34m\u001b[0m\u001b[0;34m\u001b[0m\u001b[0m\n\u001b[1;32m      5\u001b[0m \u001b[0mrowCount\u001b[0m \u001b[0;34m=\u001b[0m \u001b[0;36m0\u001b[0m\u001b[0;34m\u001b[0m\u001b[0;34m\u001b[0m\u001b[0m\n",
      "\u001b[0;31mNameError\u001b[0m: name 'basket_data' is not defined"
     ]
    }
   ],
   "source": [
    "ilt_data = basket_data.drop(basket_data.columns[[0]], axis=1)\n",
    "results = list(apriori(filt_data.as_matrix()))\n",
    "\n",
    "rulesList = pd.DataFrame(columns = ('LHS', 'RHS', 'COUNT', 'CONFIDENCE','LIFT'))\n",
    "rowCount = 0\n",
    "\n",
    "#Convert results into a Data Frame\n",
    "for row in results:\n",
    "    for affinity in row[2]:\n",
    "        rulesList.loc[rowCount] = [ ', '.join(affinity.items_base) ,\\\n",
    "                                    affinity.items_add, \\\n",
    "                                    len(affinity.items_base) ,\\\n",
    "                                    affinity.confidence,\\\n",
    "                                    affinity.lift]\n",
    "        rowCount += 1"
   ]
  },
  {
   "cell_type": "markdown",
   "metadata": {},
   "source": [
    "## Using the Rules\n",
    "We can take a look at the rules by simply doing a head."
   ]
  },
  {
   "cell_type": "code",
   "execution_count": 28,
   "metadata": {},
   "outputs": [
    {
     "ename": "NameError",
     "evalue": "name 'rulesList' is not defined",
     "output_type": "error",
     "traceback": [
      "\u001b[0;31m---------------------------------------------------------------------------\u001b[0m",
      "\u001b[0;31mNameError\u001b[0m                                 Traceback (most recent call last)",
      "\u001b[0;32m<ipython-input-28-943ec3158b8c>\u001b[0m in \u001b[0;36m<module>\u001b[0;34m\u001b[0m\n\u001b[0;32m----> 1\u001b[0;31m \u001b[0mrulesList\u001b[0m\u001b[0;34m.\u001b[0m\u001b[0mhead\u001b[0m\u001b[0;34m(\u001b[0m\u001b[0;34m)\u001b[0m\u001b[0;34m\u001b[0m\u001b[0;34m\u001b[0m\u001b[0m\n\u001b[0m",
      "\u001b[0;31mNameError\u001b[0m: name 'rulesList' is not defined"
     ]
    }
   ],
   "source": [
    "rulesList.head()"
   ]
  },
  {
   "cell_type": "markdown",
   "metadata": {},
   "source": [
    "We can also filter rules where the count of elements is 1 and the confidence is > 70%"
   ]
  },
  {
   "cell_type": "code",
   "execution_count": 29,
   "metadata": {},
   "outputs": [
    {
     "ename": "NameError",
     "evalue": "name 'rulesList' is not defined",
     "output_type": "error",
     "traceback": [
      "\u001b[0;31m---------------------------------------------------------------------------\u001b[0m",
      "\u001b[0;31mNameError\u001b[0m                                 Traceback (most recent call last)",
      "\u001b[0;32m<ipython-input-29-3f562f022b31>\u001b[0m in \u001b[0;36m<module>\u001b[0;34m\u001b[0m\n\u001b[0;32m----> 1\u001b[0;31m \u001b[0mrulesList\u001b[0m\u001b[0;34m[\u001b[0m\u001b[0;34m(\u001b[0m\u001b[0mrulesList\u001b[0m\u001b[0;34m.\u001b[0m\u001b[0mCOUNT\u001b[0m \u001b[0;34m<=\u001b[0m \u001b[0;36m1\u001b[0m\u001b[0;34m)\u001b[0m \u001b[0;34m&\u001b[0m \u001b[0;34m(\u001b[0m\u001b[0mrulesList\u001b[0m\u001b[0;34m.\u001b[0m\u001b[0mCONFIDENCE\u001b[0m \u001b[0;34m>\u001b[0m \u001b[0;36m0.7\u001b[0m\u001b[0;34m)\u001b[0m\u001b[0;34m]\u001b[0m\u001b[0;34m.\u001b[0m\u001b[0mhead\u001b[0m\u001b[0;34m(\u001b[0m\u001b[0;36m5\u001b[0m\u001b[0;34m)\u001b[0m\u001b[0;34m\u001b[0m\u001b[0;34m\u001b[0m\u001b[0m\n\u001b[0m",
      "\u001b[0;31mNameError\u001b[0m: name 'rulesList' is not defined"
     ]
    }
   ],
   "source": [
    "rulesList[(rulesList.COUNT <= 1) & (rulesList.CONFIDENCE > 0.7)].head(5)"
   ]
  },
  {
   "cell_type": "markdown",
   "metadata": {},
   "source": [
    "Looking at the rules, we can easily see some patterns. Customers who have left the business between 3 months and 1 year are always in the age group 20-30. Similarly, customers in age group 20-30 always cancelled the service. These are interesting facts that can be analyzed further by the business."
   ]
  },
  {
   "cell_type": "code",
   "execution_count": null,
   "metadata": {},
   "outputs": [],
   "source": []
  }
 ],
 "metadata": {
  "kernelspec": {
   "display_name": "Python 3",
   "language": "python",
   "name": "python3"
  },
  "language_info": {
   "codemirror_mode": {
    "name": "ipython",
    "version": 3
   },
   "file_extension": ".py",
   "mimetype": "text/x-python",
   "name": "python",
   "nbconvert_exporter": "python",
   "pygments_lexer": "ipython3",
   "version": "3.7.6"
  }
 },
 "nbformat": 4,
 "nbformat_minor": 4
}
